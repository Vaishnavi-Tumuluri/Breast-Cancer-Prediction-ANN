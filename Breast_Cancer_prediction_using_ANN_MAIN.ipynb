{
  "metadata": {
    "kernelspec": {
      "language": "python",
      "display_name": "Python 3",
      "name": "python3"
    },
    "language_info": {
      "name": "python",
      "version": "3.7.12",
      "mimetype": "text/x-python",
      "codemirror_mode": {
        "name": "ipython",
        "version": 3
      },
      "pygments_lexer": "ipython3",
      "nbconvert_exporter": "python",
      "file_extension": ".py"
    },
    "kaggle": {
      "accelerator": "none",
      "dataSources": [
        {
          "sourceId": 408,
          "sourceType": "datasetVersion",
          "datasetId": 180
        }
      ],
      "dockerImageVersionId": 30260,
      "isInternetEnabled": true,
      "language": "python",
      "sourceType": "notebook",
      "isGpuEnabled": false
    },
    "colab": {
      "name": "Breast Cancer prediction using ANN MAIN",
      "provenance": [],
      "include_colab_link": true
    }
  },
  "nbformat_minor": 0,
  "nbformat": 4,
  "cells": [
    {
      "cell_type": "markdown",
      "metadata": {
        "id": "view-in-github",
        "colab_type": "text"
      },
      "source": [
        "<a href=\"https://colab.research.google.com/github/Vaishnavi-Tumuluri/Breast-Cancer-Prediction-ANN/blob/main/Breast_Cancer_prediction_using_ANN_MAIN.ipynb\" target=\"_parent\"><img src=\"https://colab.research.google.com/assets/colab-badge.svg\" alt=\"Open In Colab\"/></a>"
      ]
    },
    {
      "source": [
        "\n",
        "# IMPORTANT: RUN THIS CELL IN ORDER TO IMPORT YOUR KAGGLE DATA SOURCES\n",
        "# TO THE CORRECT LOCATION (/kaggle/input) IN YOUR NOTEBOOK,\n",
        "# THEN FEEL FREE TO DELETE THIS CELL.\n",
        "# NOTE: THIS NOTEBOOK ENVIRONMENT DIFFERS FROM KAGGLE'S PYTHON\n",
        "# ENVIRONMENT SO THERE MAY BE MISSING LIBRARIES USED BY YOUR\n",
        "# NOTEBOOK.\n",
        "\n",
        "import os\n",
        "import sys\n",
        "from tempfile import NamedTemporaryFile\n",
        "from urllib.request import urlopen\n",
        "from urllib.parse import unquote, urlparse\n",
        "from urllib.error import HTTPError\n",
        "from zipfile import ZipFile\n",
        "import tarfile\n",
        "import shutil\n",
        "\n",
        "CHUNK_SIZE = 40960\n",
        "DATA_SOURCE_MAPPING = 'breast-cancer-wisconsin-data:https%3A%2F%2Fstorage.googleapis.com%2Fkaggle-data-sets%2F180%2F408%2Fbundle%2Farchive.zip%3FX-Goog-Algorithm%3DGOOG4-RSA-SHA256%26X-Goog-Credential%3Dgcp-kaggle-com%2540kaggle-161607.iam.gserviceaccount.com%252F20240602%252Fauto%252Fstorage%252Fgoog4_request%26X-Goog-Date%3D20240602T170735Z%26X-Goog-Expires%3D259200%26X-Goog-SignedHeaders%3Dhost%26X-Goog-Signature%3D79a6d1b6958951587c068b4448de9ba5f11456d47943b09fe05baed66cc19844746ca6e063dda72a4df25623ee5fa18260adc344c67ee5d63c2e4024968118cfee0fe9b628ee58d0e335459a87f78271574b58a66b108afec896855aa528a9d6bda3db6a635785a971b5f95c1fa90493dbbfcd1bb82f8c9d6d3995fb18ad629701646beaf885a0b3ca98e8f40b50eb7771d1117f43f83f59931bf00d079d3ebfaaa82abae392abd4e3c6da9c57d2e4d2735595daef1e25c3bfccfee7c5f01159565f90b75705333915061486bfcc5ad056989d7a93d38327c8eaa28d6953306ae05a0012aa3f1d88cee06489fc94a741e823c7907e132c82b95946c285485791'\n",
        "\n",
        "KAGGLE_INPUT_PATH='/kaggle/input'\n",
        "KAGGLE_WORKING_PATH='/kaggle/working'\n",
        "KAGGLE_SYMLINK='kaggle'\n",
        "\n",
        "!umount /kaggle/input/ 2> /dev/null\n",
        "shutil.rmtree('/kaggle/input', ignore_errors=True)\n",
        "os.makedirs(KAGGLE_INPUT_PATH, 0o777, exist_ok=True)\n",
        "os.makedirs(KAGGLE_WORKING_PATH, 0o777, exist_ok=True)\n",
        "\n",
        "try:\n",
        "  os.symlink(KAGGLE_INPUT_PATH, os.path.join(\"..\", 'input'), target_is_directory=True)\n",
        "except FileExistsError:\n",
        "  pass\n",
        "try:\n",
        "  os.symlink(KAGGLE_WORKING_PATH, os.path.join(\"..\", 'working'), target_is_directory=True)\n",
        "except FileExistsError:\n",
        "  pass\n",
        "\n",
        "for data_source_mapping in DATA_SOURCE_MAPPING.split(','):\n",
        "    directory, download_url_encoded = data_source_mapping.split(':')\n",
        "    download_url = unquote(download_url_encoded)\n",
        "    filename = urlparse(download_url).path\n",
        "    destination_path = os.path.join(KAGGLE_INPUT_PATH, directory)\n",
        "    try:\n",
        "        with urlopen(download_url) as fileres, NamedTemporaryFile() as tfile:\n",
        "            total_length = fileres.headers['content-length']\n",
        "            print(f'Downloading {directory}, {total_length} bytes compressed')\n",
        "            dl = 0\n",
        "            data = fileres.read(CHUNK_SIZE)\n",
        "            while len(data) > 0:\n",
        "                dl += len(data)\n",
        "                tfile.write(data)\n",
        "                done = int(50 * dl / int(total_length))\n",
        "                sys.stdout.write(f\"\\r[{'=' * done}{' ' * (50-done)}] {dl} bytes downloaded\")\n",
        "                sys.stdout.flush()\n",
        "                data = fileres.read(CHUNK_SIZE)\n",
        "            if filename.endswith('.zip'):\n",
        "              with ZipFile(tfile) as zfile:\n",
        "                zfile.extractall(destination_path)\n",
        "            else:\n",
        "              with tarfile.open(tfile.name) as tarfile:\n",
        "                tarfile.extractall(destination_path)\n",
        "            print(f'\\nDownloaded and uncompressed: {directory}')\n",
        "    except HTTPError as e:\n",
        "        print(f'Failed to load (likely expired) {download_url} to path {destination_path}')\n",
        "        continue\n",
        "    except OSError as e:\n",
        "        print(f'Failed to load {download_url} to path {destination_path}')\n",
        "        continue\n",
        "\n",
        "print('Data source import complete.')\n"
      ],
      "metadata": {
        "id": "QEV2Jsob68oz"
      },
      "cell_type": "code",
      "outputs": [],
      "execution_count": null
    },
    {
      "cell_type": "markdown",
      "source": [
        "# Data description\n",
        "\n",
        "Features are computed from a digitized image of a fine needle aspirate (FNA) of a breast mass. They describe characteristics of the cell nuclei present in the image.\n",
        "n the 3-dimensional space is that described in: [K. P. Bennett and O. L. Mangasarian: \"Robust Linear Programming Discrimination of Two Linearly Inseparable Sets\", Optimization Methods and Software 1, 1992, 23-34].\n",
        "\n",
        "This database is also available through the UW CS ftp server:\n",
        "ftp ftp.cs.wisc.edu\n",
        "cd math-prog/cpo-dataset/machine-learn/WDBC/\n",
        "\n",
        "Also can be found on UCI Machine Learning Repository: https://archive.ics.uci.edu/ml/datasets/Breast+Cancer+Wisconsin+%28Diagnostic%29\n",
        "\n",
        "Attribute Information:\n",
        "\n",
        "1) ID number\n",
        "2) Diagnosis (M = malignant, B = benign)\n",
        "3-32)\n",
        "\n",
        "Ten real-valued features are computed for each cell nucleus:\n",
        "\n",
        "a) radius (mean of distances from center to points on the perimeter)\n",
        "\n",
        "b) texture (standard deviation of gray-scale values)\n",
        "\n",
        "c) perimeter\n",
        "\n",
        "d) area\n",
        "\n",
        "e) smoothness (local variation in radius lengths)\n",
        "\n",
        "f) compactness (perimeter^2 / area - 1.0)\n",
        "\n",
        "g) concavity (severity of concave portions of the contour)\n",
        "\n",
        "h) concave points (number of concave portions of the contour)\n",
        "\n",
        "i) symmetry\n",
        "\n",
        "j) fractal dimension (\"coastline approximation\" - 1)"
      ],
      "metadata": {
        "id": "Iyia3Uei68o3"
      }
    },
    {
      "cell_type": "markdown",
      "source": [
        "![shutterstock_1493059916.jpg](attachment:66b32c29-efff-4f79-a4a9-8b594625f498.jpg)"
      ],
      "metadata": {
        "id": "Fgpct2CQ68o4"
      }
    },
    {
      "cell_type": "markdown",
      "source": [
        "# Loading our data"
      ],
      "metadata": {
        "id": "u64-uw_q68o5"
      }
    },
    {
      "cell_type": "markdown",
      "source": [
        "we will load our data and and required libraries"
      ],
      "metadata": {
        "id": "hTcxGnMD68o6"
      }
    },
    {
      "cell_type": "code",
      "source": [
        "#import pandas\n",
        "import pandas as pd\n",
        "#import numpy\n",
        "import numpy as np\n",
        "import matplotlib.pyplot as plt\n",
        "import seaborn as sns\n",
        "import warnings\n",
        "import plotly.offline as py\n",
        "py.init_notebook_mode(connected=True)\n",
        "import plotly.graph_objs as go\n",
        "import plotly.tools as tls\n",
        "import plotly.figure_factory as ff\n",
        "# Input data files are available in the read-only \"../input/\" directory\n",
        "# For example, running this (by clicking run or pressing Shift+Enter) will list all files under the input directory\n",
        "\n",
        "import os\n",
        "for dirname, _, filenames in os.walk('/kaggle/input'):\n",
        "    for filename in filenames:\n",
        "        print(os.path.join(dirname, filename))\n",
        "import warnings\n",
        "warnings.filterwarnings(\"ignore\")\n",
        "\n",
        "df = pd.read_csv('../input/breast-cancer-wisconsin-data/data.csv')\n",
        "df\n"
      ],
      "metadata": {
        "_uuid": "8f2839f25d086af736a60e9eeb907d3b93b6e0e5",
        "_cell_guid": "b1076dfc-b9ad-4769-8c92-a6c4dae69d19",
        "execution": {
          "iopub.status.busy": "2024-01-23T06:41:47.192466Z",
          "iopub.execute_input": "2024-01-23T06:41:47.193716Z",
          "iopub.status.idle": "2024-01-23T06:41:47.260435Z",
          "shell.execute_reply.started": "2024-01-23T06:41:47.193655Z",
          "shell.execute_reply": "2024-01-23T06:41:47.258968Z"
        },
        "trusted": true,
        "id": "taxQVaJz68o6"
      },
      "execution_count": null,
      "outputs": []
    },
    {
      "cell_type": "code",
      "source": [
        "df.info()"
      ],
      "metadata": {
        "execution": {
          "iopub.status.busy": "2024-01-23T06:41:47.281592Z",
          "iopub.execute_input": "2024-01-23T06:41:47.282142Z",
          "iopub.status.idle": "2024-01-23T06:41:47.313743Z",
          "shell.execute_reply.started": "2024-01-23T06:41:47.282095Z",
          "shell.execute_reply": "2024-01-23T06:41:47.31218Z"
        },
        "trusted": true,
        "id": "ND7PktaN68o7"
      },
      "execution_count": null,
      "outputs": []
    },
    {
      "cell_type": "code",
      "source": [],
      "metadata": {
        "trusted": true,
        "id": "fFhIGFvk68o8"
      },
      "execution_count": null,
      "outputs": []
    },
    {
      "cell_type": "code",
      "source": [
        "import plotly.express as px\n",
        "from plotly.offline import init_notebook_mode, iplot\n",
        "init_notebook_mode(connected=True)\n",
        "fig = px.pie(df, values=df['diagnosis'].value_counts().values, names=df['diagnosis'].value_counts().index)\n",
        "fig.show()"
      ],
      "metadata": {
        "execution": {
          "iopub.status.busy": "2024-01-23T06:41:47.315998Z",
          "iopub.execute_input": "2024-01-23T06:41:47.316588Z",
          "iopub.status.idle": "2024-01-23T06:41:48.514234Z",
          "shell.execute_reply.started": "2024-01-23T06:41:47.316539Z",
          "shell.execute_reply": "2024-01-23T06:41:48.512795Z"
        },
        "trusted": true,
        "id": "26_JF7n868o8"
      },
      "execution_count": null,
      "outputs": []
    },
    {
      "cell_type": "markdown",
      "source": [
        "Our target vaoues are slightly imbalanced so we may not need to use oversampling or undersampling techniques."
      ],
      "metadata": {
        "id": "ZKtwxMVL68o9"
      }
    },
    {
      "cell_type": "code",
      "source": [],
      "metadata": {
        "id": "kGBXgmU168o9"
      },
      "execution_count": null,
      "outputs": []
    },
    {
      "cell_type": "markdown",
      "source": [
        "# Feature selection with correlation matrix"
      ],
      "metadata": {
        "id": "0qJTr_m568o9"
      }
    },
    {
      "cell_type": "code",
      "source": [
        "corr = df.iloc[:,2:].corr()\n",
        "colormap = sns.diverging_palette(220, 10, as_cmap = True)\n",
        "plt.figure(figsize=(14,14))\n",
        "sns.heatmap(corr, cbar = True,  square = True, annot=True, fmt= '.2f',annot_kws={'size': 8},\n",
        "            cmap = colormap, linewidths=0.1, linecolor='white')\n",
        "plt.title('Correlation of df Features', y=1.05, size=15)"
      ],
      "metadata": {
        "execution": {
          "iopub.status.busy": "2024-01-23T06:41:48.516353Z",
          "iopub.execute_input": "2024-01-23T06:41:48.516962Z",
          "iopub.status.idle": "2024-01-23T06:41:54.030056Z",
          "shell.execute_reply.started": "2024-01-23T06:41:48.516903Z",
          "shell.execute_reply": "2024-01-23T06:41:54.028654Z"
        },
        "trusted": true,
        "id": "MvT74XYn68o-"
      },
      "execution_count": null,
      "outputs": []
    },
    {
      "cell_type": "markdown",
      "source": [
        "As we can see many features are correlated to each other so we will remove highly correlated features bigger than 0.95"
      ],
      "metadata": {
        "id": "McSbPeEX68o-"
      }
    },
    {
      "cell_type": "code",
      "source": [
        "import numpy as np\n",
        "\n",
        "# Create correlation matrix\n",
        "corr_matrix = df.corr().abs()\n",
        "\n",
        "# Select upper triangle of correlation matrix\n",
        "upper = corr_matrix.where(np.triu(np.ones(corr_matrix.shape), k=1).astype(np.bool))\n",
        "\n",
        "# Find features with correlation greater than 0.95\n",
        "to_drop = [column for column in upper.columns if any(upper[column] > 0.95)]\n",
        "print(to_drop)\n",
        "# Drop features\n",
        "df.drop(to_drop, axis=1, inplace=True)"
      ],
      "metadata": {
        "execution": {
          "iopub.status.busy": "2024-01-23T06:41:54.032885Z",
          "iopub.execute_input": "2024-01-23T06:41:54.034268Z",
          "iopub.status.idle": "2024-01-23T06:41:54.065038Z",
          "shell.execute_reply.started": "2024-01-23T06:41:54.0342Z",
          "shell.execute_reply": "2024-01-23T06:41:54.063327Z"
        },
        "trusted": true,
        "id": "0B5kttTw68o-"
      },
      "execution_count": null,
      "outputs": []
    },
    {
      "cell_type": "markdown",
      "source": [
        "We have now **26** features"
      ],
      "metadata": {
        "execution": {
          "iopub.status.busy": "2022-10-13T16:43:35.517561Z",
          "iopub.execute_input": "2022-10-13T16:43:35.519324Z",
          "iopub.status.idle": "2022-10-13T16:43:35.526558Z",
          "shell.execute_reply.started": "2022-10-13T16:43:35.519259Z",
          "shell.execute_reply": "2022-10-13T16:43:35.525168Z"
        },
        "id": "r2ZSHL5k68o-"
      }
    },
    {
      "cell_type": "code",
      "source": [
        "len(df.columns)"
      ],
      "metadata": {
        "execution": {
          "iopub.status.busy": "2024-01-23T06:41:54.067384Z",
          "iopub.execute_input": "2024-01-23T06:41:54.06801Z",
          "iopub.status.idle": "2024-01-23T06:41:54.077957Z",
          "shell.execute_reply.started": "2024-01-23T06:41:54.067952Z",
          "shell.execute_reply": "2024-01-23T06:41:54.076835Z"
        },
        "trusted": true,
        "id": "9ppDzG_V68o_"
      },
      "execution_count": null,
      "outputs": []
    },
    {
      "cell_type": "markdown",
      "source": [
        "# Checking formissing values"
      ],
      "metadata": {
        "id": "_7NbZsl768o_"
      }
    },
    {
      "cell_type": "code",
      "source": [
        "df.isnull().sum()"
      ],
      "metadata": {
        "execution": {
          "iopub.status.busy": "2024-01-23T06:41:54.079948Z",
          "iopub.execute_input": "2024-01-23T06:41:54.080479Z",
          "iopub.status.idle": "2024-01-23T06:41:54.09623Z",
          "shell.execute_reply.started": "2024-01-23T06:41:54.08043Z",
          "shell.execute_reply": "2024-01-23T06:41:54.094929Z"
        },
        "trusted": true,
        "id": "aljsoV1m68o_"
      },
      "execution_count": null,
      "outputs": []
    },
    {
      "cell_type": "markdown",
      "source": [
        "We don`t need \"Unnamed: 32\"  and id columns so we can drop them"
      ],
      "metadata": {
        "id": "wkAO_PNE68o_"
      }
    },
    {
      "cell_type": "code",
      "source": [
        "#droping feature\n",
        "df.drop(['Unnamed: 32','id'],axis=1,inplace=True)"
      ],
      "metadata": {
        "execution": {
          "iopub.status.busy": "2024-01-23T06:41:54.098336Z",
          "iopub.execute_input": "2024-01-23T06:41:54.099198Z",
          "iopub.status.idle": "2024-01-23T06:41:54.10781Z",
          "shell.execute_reply.started": "2024-01-23T06:41:54.099149Z",
          "shell.execute_reply": "2024-01-23T06:41:54.106104Z"
        },
        "trusted": true,
        "id": "UZTDOX1G68o_"
      },
      "execution_count": null,
      "outputs": []
    },
    {
      "cell_type": "code",
      "source": [
        "# independent variables\n",
        "x = df.drop('diagnosis',axis=1)\n",
        "#dependent variables\n",
        "y = df.diagnosis"
      ],
      "metadata": {
        "execution": {
          "iopub.status.busy": "2024-01-23T06:41:54.109774Z",
          "iopub.execute_input": "2024-01-23T06:41:54.11118Z",
          "iopub.status.idle": "2024-01-23T06:41:54.122092Z",
          "shell.execute_reply.started": "2024-01-23T06:41:54.111123Z",
          "shell.execute_reply": "2024-01-23T06:41:54.12072Z"
        },
        "trusted": true,
        "id": "sQa4F4T068o_"
      },
      "execution_count": null,
      "outputs": []
    },
    {
      "cell_type": "markdown",
      "source": [
        "# Encoding"
      ],
      "metadata": {
        "id": "nn9XZrks68pA"
      }
    },
    {
      "cell_type": "markdown",
      "source": [
        "We will handle categorical values using LabelEncoder so we can use them in ANN"
      ],
      "metadata": {
        "id": "CvPBpc2n68pA"
      }
    },
    {
      "cell_type": "code",
      "source": [
        "from sklearn.preprocessing import LabelEncoder\n",
        "#creating the object\n",
        "lb = LabelEncoder()\n",
        "y = lb.fit_transform(y)"
      ],
      "metadata": {
        "execution": {
          "iopub.status.busy": "2024-01-23T06:41:54.126449Z",
          "iopub.execute_input": "2024-01-23T06:41:54.128026Z",
          "iopub.status.idle": "2024-01-23T06:41:54.287158Z",
          "shell.execute_reply.started": "2024-01-23T06:41:54.127969Z",
          "shell.execute_reply": "2024-01-23T06:41:54.285773Z"
        },
        "trusted": true,
        "id": "wgz5gnGv68pA"
      },
      "execution_count": null,
      "outputs": []
    },
    {
      "cell_type": "markdown",
      "source": [
        "# Splitting Data"
      ],
      "metadata": {
        "id": "PbfcJu9168pA"
      }
    },
    {
      "cell_type": "code",
      "source": [
        "from sklearn.model_selection import train_test_split\n",
        "xtrain,xtest,ytrain,ytest = train_test_split(x,y,test_size=0.2,random_state=40)"
      ],
      "metadata": {
        "execution": {
          "iopub.status.busy": "2024-01-23T06:41:54.289079Z",
          "iopub.execute_input": "2024-01-23T06:41:54.289564Z",
          "iopub.status.idle": "2024-01-23T06:41:54.366366Z",
          "shell.execute_reply.started": "2024-01-23T06:41:54.28952Z",
          "shell.execute_reply": "2024-01-23T06:41:54.364971Z"
        },
        "trusted": true,
        "id": "4fR00eZO68pA"
      },
      "execution_count": null,
      "outputs": []
    },
    {
      "cell_type": "markdown",
      "source": [
        "# Scaling the Data"
      ],
      "metadata": {
        "id": "IB7ToqzZ68pA"
      }
    },
    {
      "cell_type": "markdown",
      "source": [
        "When we create the artificial neural network, then we have to scale the data into smaller numbers because the deep learning algorithm multiplies the weights and input data of the nodes and it takes lots of time, So for reducing that time we scale the data.\n",
        "\n",
        "We will scalling the data with StandardScaler"
      ],
      "metadata": {
        "id": "cA4Nw3Db68pA"
      }
    },
    {
      "cell_type": "code",
      "source": [
        "#importing StandardScaler\n",
        "from sklearn.preprocessing import StandardScaler\n",
        "#creating object\n",
        "sc = StandardScaler()\n",
        "xtrain = sc.fit_transform(xtrain)\n",
        "xtest = sc.transform(xtest)"
      ],
      "metadata": {
        "execution": {
          "iopub.status.busy": "2024-01-23T06:41:54.368125Z",
          "iopub.execute_input": "2024-01-23T06:41:54.36896Z",
          "iopub.status.idle": "2024-01-23T06:41:54.383803Z",
          "shell.execute_reply.started": "2024-01-23T06:41:54.368908Z",
          "shell.execute_reply": "2024-01-23T06:41:54.382519Z"
        },
        "trusted": true,
        "id": "ALlnN2YE68pB"
      },
      "execution_count": null,
      "outputs": []
    },
    {
      "cell_type": "markdown",
      "source": [
        "### What are artificial neural networks?\n",
        "\n",
        "An artificial neuron network (ANN) is a computational model based on the structure and functions of biological neural networks. Information that flows through the network affects the structure of the ANN because a neural network changes - or learns, in a sense - based on that input and output. ANNs are considered nonlinear statistical data modeling tools where the complex relationships between inputs and outputs are modeled or patterns are found. ANN is also known as a neural network.\n",
        "\n",
        "A single neuron is known as a perceptron. It consists of a layer of inputs(corresponds to columns of a dataframe). Each input has a weight which controls the magnitude of an input. The summation of the products of these input values and weights is fed to the activation function. Activation functions are really important for a Artificial Neural Network to learn and make sense of something really complicated and Non-linear complex functional mappings between the inputs and response variable."
      ],
      "metadata": {
        "id": "vC32Uc5568pB"
      }
    },
    {
      "cell_type": "markdown",
      "source": [
        "![ai-artificial-neural-network-alex-castrounis.png](attachment:ce2a1faa-aec3-49a3-9838-fb93ad3361dc.png)"
      ],
      "metadata": {
        "id": "PgI71U5T68pB"
      }
    },
    {
      "cell_type": "markdown",
      "source": [
        "we will import Keras and its packages."
      ],
      "metadata": {
        "id": "1QpoCAgF68pB"
      }
    },
    {
      "cell_type": "code",
      "source": [
        "#importing keras\n",
        "import keras\n",
        "#importing sequential module\n",
        "from keras.models import Sequential\n",
        "# import dense module for hidden layers\n",
        "from keras.layers import Dense\n",
        "#importing activation functions\n",
        "from keras.layers import LeakyReLU,PReLU,ELU\n",
        "from keras.layers import Dropout"
      ],
      "metadata": {
        "execution": {
          "iopub.status.busy": "2024-01-23T06:41:54.38604Z",
          "iopub.execute_input": "2024-01-23T06:41:54.386615Z",
          "iopub.status.idle": "2024-01-23T06:42:01.449732Z",
          "shell.execute_reply.started": "2024-01-23T06:41:54.386549Z",
          "shell.execute_reply": "2024-01-23T06:42:01.448142Z"
        },
        "trusted": true,
        "id": "-rwjeYBS68pC"
      },
      "execution_count": null,
      "outputs": []
    },
    {
      "cell_type": "markdown",
      "source": [
        "# Creating Layers\n",
        "After importing those libraries, we create the three types of layers:\n",
        "\n",
        "- Input layer\n",
        "- Hidden layer\n",
        "- Output layer"
      ],
      "metadata": {
        "id": "ai_ez98w68pC"
      }
    },
    {
      "cell_type": "code",
      "source": [
        "from tensorflow.keras.layers import BatchNormalization\n",
        "#CREATING THE ANN AS SEQUENCE OF LAYERS\n",
        "ann =Sequential()\n",
        "\n",
        "#ADDING FIRST HIDDEN LAYER WITH 30 NEURONS, THE INPUT LAYER WILL BE ADDED AUTOMATICALLY,\n",
        "ann.add(Dense(units = 30,activation = 'relu'))\n",
        "ann.add(BatchNormalization())\n",
        "ann.add(Dropout(0.5))\n",
        "\n",
        "#ADDING 2ND HIDDEN LAYER WITH 30 NEURONS\n",
        "ann.add(Dense(units = 30,activation = 'relu'))\n",
        "ann.add(BatchNormalization())\n",
        "ann.add(Dropout(0.5))\n",
        "\n",
        "#ADDING OUTPUT LAYER WITH 1 NEURON , AS THIS IS A BINARY CLASSIFICATION\n",
        "ann.add(Dense(units = 1,activation = 'sigmoid'))"
      ],
      "metadata": {
        "execution": {
          "iopub.status.busy": "2024-01-23T06:42:01.45221Z",
          "iopub.execute_input": "2024-01-23T06:42:01.453604Z",
          "iopub.status.idle": "2024-01-23T06:42:01.961077Z",
          "shell.execute_reply.started": "2024-01-23T06:42:01.453535Z",
          "shell.execute_reply": "2024-01-23T06:42:01.959955Z"
        },
        "trusted": true,
        "id": "qwUDlkAO68pC"
      },
      "execution_count": null,
      "outputs": []
    },
    {
      "cell_type": "markdown",
      "source": [
        "# Compiling and Fitting"
      ],
      "metadata": {
        "id": "UblOEbT068pC"
      }
    },
    {
      "cell_type": "markdown",
      "source": [
        "Optimizer is chosen as adam for gradient descent.\n",
        "\n",
        "Binary_crossentropy is the loss function used.\n",
        "\n",
        "We use sigmoid function in output layer\n",
        "\n",
        "Sigmoid function is used when dealing with classfication problems with 2 types of results.(Submax function is used for 3 or more classification results)\n"
      ],
      "metadata": {
        "id": "RCLXyWrz68pD"
      }
    },
    {
      "cell_type": "markdown",
      "source": [
        "![download.png](attachment:4369040a-b9e8-4c46-9f2d-d527a3bad265.png)"
      ],
      "metadata": {
        "id": "I_6AvBQ768pD"
      }
    },
    {
      "cell_type": "code",
      "source": [
        "#COMPILING THE ANN USING STOCHASTIC GRADIENT DESCENT (optimizer = 'adam')\n",
        "ann.compile(optimizer = 'adam', loss = 'binary_crossentropy', metrics = ['accuracy'])\n",
        "\n",
        "#setting callbacks for monitoring maximum accuracy\n",
        "from tensorflow.keras.callbacks import EarlyStopping\n",
        "early_stop = EarlyStopping(monitor='val_loss', mode='min', verbose=1, patience=25)\n",
        "\n",
        "#TRAINING THE ANN WITH BATCH SIZE OF 32 (THIS IS A BATCH LEARNING)\n",
        "model=ann.fit(xtrain, ytrain,batch_size = 32, validation_data=(xtest, ytest),epochs =100,callbacks = [early_stop])"
      ],
      "metadata": {
        "execution": {
          "iopub.status.busy": "2024-01-23T06:42:01.962655Z",
          "iopub.execute_input": "2024-01-23T06:42:01.96363Z",
          "iopub.status.idle": "2024-01-23T06:42:24.057306Z",
          "shell.execute_reply.started": "2024-01-23T06:42:01.963587Z",
          "shell.execute_reply": "2024-01-23T06:42:24.055989Z"
        },
        "trusted": true,
        "id": "asMlwq5968pJ"
      },
      "execution_count": null,
      "outputs": []
    },
    {
      "cell_type": "markdown",
      "source": [
        "Let us see summary of our model"
      ],
      "metadata": {
        "id": "XiS6jeSx68pJ"
      }
    },
    {
      "cell_type": "code",
      "source": [
        "#taking summary of layers\n",
        "ann.summary()"
      ],
      "metadata": {
        "execution": {
          "iopub.status.busy": "2024-01-23T06:42:24.059758Z",
          "iopub.execute_input": "2024-01-23T06:42:24.060762Z",
          "iopub.status.idle": "2024-01-23T06:42:24.068211Z",
          "shell.execute_reply.started": "2024-01-23T06:42:24.060707Z",
          "shell.execute_reply": "2024-01-23T06:42:24.067124Z"
        },
        "trusted": true,
        "id": "nJevCiDM68pJ"
      },
      "execution_count": null,
      "outputs": []
    },
    {
      "cell_type": "code",
      "source": [
        "losses = pd.DataFrame(ann.history.history)\n",
        "losses.plot()"
      ],
      "metadata": {
        "execution": {
          "iopub.status.busy": "2024-01-23T06:42:24.072022Z",
          "iopub.execute_input": "2024-01-23T06:42:24.07331Z",
          "iopub.status.idle": "2024-01-23T06:42:24.407669Z",
          "shell.execute_reply.started": "2024-01-23T06:42:24.073259Z",
          "shell.execute_reply": "2024-01-23T06:42:24.406521Z"
        },
        "trusted": true,
        "id": "G_oulJhq68pK"
      },
      "execution_count": null,
      "outputs": []
    },
    {
      "cell_type": "code",
      "source": [
        "#now testing for Test data\n",
        "y_pred = ann.predict(xtest)\n",
        "#converting values\n",
        "y_pred = (y_pred>0.5)"
      ],
      "metadata": {
        "execution": {
          "iopub.status.busy": "2024-01-23T06:42:24.40918Z",
          "iopub.execute_input": "2024-01-23T06:42:24.410029Z",
          "iopub.status.idle": "2024-01-23T06:42:24.649801Z",
          "shell.execute_reply.started": "2024-01-23T06:42:24.409968Z",
          "shell.execute_reply": "2024-01-23T06:42:24.64815Z"
        },
        "trusted": true,
        "id": "B-jr_6Ia68pK"
      },
      "execution_count": null,
      "outputs": []
    },
    {
      "cell_type": "code",
      "source": [
        "from sklearn.metrics import confusion_matrix\n",
        "from sklearn.metrics import accuracy_score\n",
        "cm = confusion_matrix(ytest,y_pred)\n",
        "score = accuracy_score(ytest,y_pred)\n",
        "print(cm)\n",
        "print('score is:',score)"
      ],
      "metadata": {
        "execution": {
          "iopub.status.busy": "2024-01-23T06:42:24.65189Z",
          "iopub.execute_input": "2024-01-23T06:42:24.652633Z",
          "iopub.status.idle": "2024-01-23T06:42:24.663636Z",
          "shell.execute_reply.started": "2024-01-23T06:42:24.652584Z",
          "shell.execute_reply": "2024-01-23T06:42:24.662127Z"
        },
        "trusted": true,
        "id": "F5Kl2C5v68pK"
      },
      "execution_count": null,
      "outputs": []
    },
    {
      "cell_type": "code",
      "source": [
        "from sklearn.metrics import classification_report,confusion_matrix\n",
        "print(classification_report(ytest,y_pred))"
      ],
      "metadata": {
        "execution": {
          "iopub.status.busy": "2024-01-23T06:42:24.666287Z",
          "iopub.execute_input": "2024-01-23T06:42:24.666915Z",
          "iopub.status.idle": "2024-01-23T06:42:24.68243Z",
          "shell.execute_reply.started": "2024-01-23T06:42:24.666854Z",
          "shell.execute_reply": "2024-01-23T06:42:24.680914Z"
        },
        "trusted": true,
        "id": "B8AaZfCX68pK"
      },
      "execution_count": null,
      "outputs": []
    },
    {
      "cell_type": "code",
      "source": [
        "# creating heatmap of comfussion matrix\n",
        "plt.figure(figsize=[14,7])\n",
        "sns.heatmap(cm,annot=True)\n",
        "plt.show()"
      ],
      "metadata": {
        "execution": {
          "iopub.status.busy": "2024-01-23T06:42:24.684196Z",
          "iopub.execute_input": "2024-01-23T06:42:24.684661Z",
          "iopub.status.idle": "2024-01-23T06:42:24.996733Z",
          "shell.execute_reply.started": "2024-01-23T06:42:24.684616Z",
          "shell.execute_reply": "2024-01-23T06:42:24.995311Z"
        },
        "trusted": true,
        "id": "gM_Qjgvg68pL"
      },
      "execution_count": null,
      "outputs": []
    },
    {
      "cell_type": "markdown",
      "source": [
        "# ANN Visualizer"
      ],
      "metadata": {
        "id": "qzgodpvI68pL"
      }
    },
    {
      "cell_type": "code",
      "source": [
        "!pip install keras\n",
        "!pip install ann_visualizer\n",
        "!pip install graphviz"
      ],
      "metadata": {
        "execution": {
          "iopub.status.busy": "2024-01-23T06:42:24.998631Z",
          "iopub.execute_input": "2024-01-23T06:42:24.999093Z",
          "iopub.status.idle": "2024-01-23T06:43:12.506954Z",
          "shell.execute_reply.started": "2024-01-23T06:42:24.99905Z",
          "shell.execute_reply": "2024-01-23T06:43:12.505072Z"
        },
        "trusted": true,
        "id": "KL-gZQnU68pL"
      },
      "execution_count": null,
      "outputs": []
    },
    {
      "cell_type": "code",
      "source": [
        "from tensorflow.keras.layers import BatchNormalization\n",
        "#CREATING THE ANN AS SEQUENCE OF LAYERS\n",
        "ann =Sequential()\n",
        "\n",
        "#ADDING FIRST HIDDEN LAYER WITH 30 NEURONS, THE INPUT LAYER WILL BE ADDED AUTOMATICALLY,\n",
        "ann.add(Dense(units = 30,activation = 'relu'))\n",
        "ann.add(Dropout(0.5))\n",
        "\n",
        "#ADDING 2ND HIDDEN LAYER WITH 30 NEURONS\n",
        "ann.add(Dense(units = 30,activation = 'relu'))\n",
        "ann.add(Dropout(0.5))\n",
        "\n",
        "#ADDING OUTPUT LAYER WITH 1 NEURON , AS THIS IS A BINARY CLASSIFICATION\n",
        "ann.add(Dense(units = 1,activation = 'sigmoid'))\n",
        "\n",
        "\n",
        "#COMPILING THE ANN USING STOCHASTIC GRADIENT DESCENT (optimizer = 'adam')\n",
        "ann.compile(optimizer = 'adam', loss = 'binary_crossentropy', metrics = ['accuracy'])\n",
        "\n",
        "#setting callbacks for monitoring maximum accuracy\n",
        "from tensorflow.keras.callbacks import EarlyStopping\n",
        "early_stop = EarlyStopping(monitor='val_loss', mode='min', verbose=1, patience=25)\n",
        "\n",
        "#TRAINING THE ANN WITH BATCH SIZE OF 32 (THIS IS A BATCH LEARNING)\n",
        "model=ann.fit(xtrain, ytrain,batch_size = 32, validation_data=(xtest, ytest),epochs =100,callbacks = [early_stop])"
      ],
      "metadata": {
        "execution": {
          "iopub.status.busy": "2024-01-23T06:43:12.510197Z",
          "iopub.execute_input": "2024-01-23T06:43:12.511906Z",
          "iopub.status.idle": "2024-01-23T06:43:17.980257Z",
          "shell.execute_reply.started": "2024-01-23T06:43:12.511814Z",
          "shell.execute_reply": "2024-01-23T06:43:17.978862Z"
        },
        "trusted": true,
        "id": "-p-X7DfU68pL"
      },
      "execution_count": null,
      "outputs": []
    },
    {
      "cell_type": "code",
      "source": [
        "from ann_visualizer.visualize import ann_viz;\n",
        "from graphviz import Source\n",
        "ann_viz(ann, view=True, filename='network.gv', title='My Neural Network')\n",
        "Source.from_file('./network.gv')"
      ],
      "metadata": {
        "execution": {
          "iopub.status.busy": "2024-01-23T06:43:17.982665Z",
          "iopub.execute_input": "2024-01-23T06:43:17.983563Z",
          "iopub.status.idle": "2024-01-23T06:43:19.693996Z",
          "shell.execute_reply.started": "2024-01-23T06:43:17.983483Z",
          "shell.execute_reply": "2024-01-23T06:43:19.690566Z"
        },
        "trusted": true,
        "id": "Asg4kF7z68pL"
      },
      "execution_count": null,
      "outputs": []
    },
    {
      "cell_type": "code",
      "source": [],
      "metadata": {
        "id": "x_3P4nTf68pM"
      },
      "execution_count": null,
      "outputs": []
    }
  ]
}